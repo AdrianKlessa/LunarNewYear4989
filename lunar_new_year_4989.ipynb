{
 "cells": [
  {
   "metadata": {},
   "cell_type": "markdown",
   "source": [
    "#### Finding the Gregorian calendar date of the Lunar New Year in the year 4989\n",
    "\n",
    "Why?\n",
    "\n",
    "The visual novel [Hate Plus](https://store.steampowered.com/app/239700/Hate_Plus/) takes place in the year 4989. An important theme of the story (simplifying quite a bit here) is Korean culture, and in-game the new year occurs on February 10 (as evidenced by [this screenshot](https://lparchive.org/Hate-Plus/Update%2031/3-525.jpg) and the one below).\n",
    "\n",
    "When I was playing through the game, a character mentioned that the new year is \"tomorrow\", which surprised me since that was the actual date of the new year IRL... but it was January.\n"
   ],
   "id": "fb0c0cdd90996052"
  },
  {
   "metadata": {},
   "cell_type": "markdown",
   "source": "![hate plus screenshot showing the predicted lunar new year date on feb 10](in_game_date.jpg \"Title\")",
   "id": "b7ba570dfe5f2340"
  },
  {
   "metadata": {},
   "cell_type": "markdown",
   "source": [
    "This made me wonder what the actual date of the new year in 4989 would be. Chinese new year [typically occurs during the second or third new moon after the winter solstice](https://en.wikipedia.org/wiki/Lunar_New_Year) so it turns out that this problem is strongly related to predicting the phases of the moon far into the future.\n",
    "\n",
    "Many online tools for looking up the date of the lunar new year don't support dates beyond a couple hundred years into the future. Moreover, multiple LLMs (even after enabling chain-of-thought (\"reasoning\") and \"deep research\" modes, and using external tools) provided different answers. For example:\n",
    "\n",
    "ChatGPT with \"deep research\" after 13 minutes of thinking: February 11, 4989\n",
    "\n",
    "ChatGPT with \"reasoning\" mode after 22 seconds of thinking: February 17, 4989\n",
    "\n",
    "ChatGPT with a \"vanilla\" prompt (without COT, the model wrote a simple Python script without external libraries): February 22, 4989\n",
    "\n",
    "Gemini: \"\\[...] *it's impossible to definitively say when the Lunar New Year would fall in the year 4989.*\"\n",
    "\n",
    "Claude: \"*Based on current astronomical models and calendrical calculations, the Lunar New Year in 4989 would likely fall in late January or early February, following the pattern we see today. However, I cannot provide the exact date with certainty given the astronomical variables involved over such an extended time period.*\""
   ],
   "id": "90d56d9056a77a3a"
  },
  {
   "metadata": {},
   "cell_type": "markdown",
   "source": "### Using the Skyfield package to try to find the answer",
   "id": "eb37ce5c96e9b450"
  },
  {
   "metadata": {},
   "cell_type": "markdown",
   "source": [
    "We'll need to use a long-range [ephemeris](https://rhodesmill.org/skyfield/planets.html) to find the predicted positions of astronomical bodies so far into the future.\n",
    "\n",
    "NASA Jet Propulsion Laboratory's `de421.bsp` supports only dates from 1899-07-29 to 2053-10-09. However, `de441.bsp` contains data for the time range between 13,200 BCE and 17,191 CE, making it perfect for our use case.\n",
    "\n",
    "The filesize is 3.1GB."
   ],
   "id": "1fd48d36eb277787"
  },
  {
   "metadata": {
    "ExecuteTime": {
     "end_time": "2025-05-09T15:47:49.174216Z",
     "start_time": "2025-05-09T15:43:27.742288Z"
    }
   },
   "cell_type": "code",
   "source": [
    "from skyfield.api import load\n",
    "\n",
    "planets = load('de441.bsp')"
   ],
   "id": "19756df1802a391b",
   "outputs": [
    {
     "name": "stderr",
     "output_type": "stream",
     "text": [
      "[#################################] 100% de441.bsp\n"
     ]
    }
   ],
   "execution_count": 5
  },
  {
   "metadata": {},
   "cell_type": "markdown",
   "source": "Testing that the ephemeris and Skyfield function correctly:",
   "id": "5969f3bfc88f8bf"
  },
  {
   "metadata": {
    "collapsed": true,
    "ExecuteTime": {
     "end_time": "2025-05-09T15:49:02.161357Z",
     "start_time": "2025-05-09T15:49:02.151795Z"
    }
   },
   "cell_type": "code",
   "source": [
    "earth, mars = planets['mercury'], planets['venus']\n",
    "\n",
    "ts = load.timescale()\n",
    "t = ts.now()\n",
    "position = earth.at(t).observe(mars)\n",
    "ra, dec, distance = position.radec()\n",
    "\n",
    "print(ra)\n",
    "print(dec)\n",
    "print(distance)"
   ],
   "id": "initial_id",
   "outputs": [
    {
     "name": "stdout",
     "output_type": "stream",
     "text": [
      "14h 57m 42.29s\n",
      "-12deg 42' 11.8\"\n",
      "0.676358 au\n"
     ]
    }
   ],
   "execution_count": 7
  },
  {
   "metadata": {},
   "cell_type": "markdown",
   "source": "Setting up the time range of interest for the new moons:",
   "id": "8ef24a184c1b662a"
  },
  {
   "metadata": {
    "ExecuteTime": {
     "end_time": "2025-05-09T15:49:08.099670Z",
     "start_time": "2025-05-09T15:49:08.095428Z"
    }
   },
   "cell_type": "code",
   "source": [
    "t_start = ts.utc(4988, 12, 1)\n",
    "t_end = ts.utc(4989, 3, 1)"
   ],
   "id": "fcf6081a65671a4b",
   "outputs": [],
   "execution_count": 8
  },
  {
   "metadata": {},
   "cell_type": "markdown",
   "source": "Finding the new moons ([phase 0](https://rhodesmill.org/skyfield/almanac.html#phases-of-the-moon)):",
   "id": "43bde2cac9a5d30c"
  },
  {
   "metadata": {
    "ExecuteTime": {
     "end_time": "2025-05-09T15:49:11.438793Z",
     "start_time": "2025-05-09T15:49:11.380661Z"
    }
   },
   "cell_type": "code",
   "source": [
    "from skyfield.almanac import find_discrete, moon_phases, seasons\n",
    "\n",
    "f = moon_phases(planets)\n",
    "times, phases = find_discrete(t_start, t_end, f)\n",
    "\n",
    "new_moons = [t for t, phase in zip(times, phases) if phase == 0]"
   ],
   "id": "34d624a129bc7b6f",
   "outputs": [],
   "execution_count": 9
  },
  {
   "metadata": {},
   "cell_type": "markdown",
   "source": "Finding the winter solstice ([event type 3](https://rhodesmill.org/skyfield/almanac.html#the-seasons)):",
   "id": "d29e06cd80933bd4"
  },
  {
   "metadata": {
    "ExecuteTime": {
     "end_time": "2025-05-09T15:52:32.988361Z",
     "start_time": "2025-05-09T15:52:32.961779Z"
    }
   },
   "cell_type": "code",
   "source": [
    "season_func = seasons(planets)\n",
    "solstice_times, solstice_events = find_discrete(t_start, t_end, season_func)\n",
    "\n",
    "dec_solstice = [t for t, e in zip(solstice_times, solstice_events) if e == 3][0]"
   ],
   "id": "e71e47bd1d04f333",
   "outputs": [],
   "execution_count": 11
  },
  {
   "metadata": {},
   "cell_type": "markdown",
   "source": "#### Second new moon after the solstice:",
   "id": "4bf326c8c80bf51c"
  },
  {
   "metadata": {
    "ExecuteTime": {
     "end_time": "2025-05-09T15:53:40.851704Z",
     "start_time": "2025-05-09T15:53:40.846178Z"
    }
   },
   "cell_type": "code",
   "source": [
    "moons_after_solstice = [t for t in new_moons if t.tt > dec_solstice.tt]\n",
    "second_new_moon = moons_after_solstice[1]\n",
    "print(second_new_moon.utc_strftime())"
   ],
   "id": "fd26a7ecb28c4311",
   "outputs": [
    {
     "name": "stdout",
     "output_type": "stream",
     "text": [
      "4989-02-10 21:36:32 UTC\n"
     ]
    }
   ],
   "execution_count": 14
  },
  {
   "metadata": {},
   "cell_type": "markdown",
   "source": "All the new moons in this time range:",
   "id": "53360ffcd598105"
  },
  {
   "metadata": {
    "ExecuteTime": {
     "end_time": "2025-05-09T19:19:53.670153Z",
     "start_time": "2025-05-09T19:19:53.664515Z"
    }
   },
   "cell_type": "code",
   "source": [
    "for new_moon in moons_after_solstice:\n",
    "    print(new_moon.utc_strftime())"
   ],
   "id": "77f84ab5ccc8c756",
   "outputs": [
    {
     "name": "stdout",
     "output_type": "stream",
     "text": [
      "4989-01-12 08:51:05 UTC\n",
      "4989-02-10 21:36:32 UTC\n"
     ]
    }
   ],
   "execution_count": 15
  },
  {
   "metadata": {},
   "cell_type": "markdown",
   "source": [
    "### Therefore, according to this calculation, the Lunar New Year will occur on February 10, 4989.\n",
    "\n",
    "Which is exactly the same date as shown in Hate Plus."
   ],
   "id": "cbc5e8d1b9ef9e48"
  },
  {
   "metadata": {},
   "cell_type": "markdown",
   "source": [
    "#### Additional remarks\n",
    "\n",
    "* Since the predicted datetime is 4989-02-10 21:36:32 UTC, this would be 11th of February in the time zones of most Asian countries. This potentially means that the answer provided by ChatGPT with deep research mode enabled was actually correct. It's a bit hard to tell if that was just a fluke.\n",
    "* Since this date is almost 3000 years into the future, there is some uncertainty involved. The ephemeris used (DE441) makes different assumptions than the one used for smaller timescales (DE440) so that it can support dates further away. There may be doubts about using predictions that are so far into the future - nevertheless, I believe that using these newest available tables published by NASA JPL constitutes the \"best guess\" we may currently have. For further information you can view the article introducing these ephemerides: https://ssd.jpl.nasa.gov/doc/Park.2021.AJ.DE440.pdf"
   ],
   "id": "b017f676705601e5"
  },
  {
   "metadata": {},
   "cell_type": "code",
   "outputs": [],
   "execution_count": null,
   "source": "",
   "id": "a22157232336a00b"
  }
 ],
 "metadata": {
  "kernelspec": {
   "display_name": "Python 3",
   "language": "python",
   "name": "python3"
  },
  "language_info": {
   "codemirror_mode": {
    "name": "ipython",
    "version": 2
   },
   "file_extension": ".py",
   "mimetype": "text/x-python",
   "name": "python",
   "nbconvert_exporter": "python",
   "pygments_lexer": "ipython2",
   "version": "2.7.6"
  }
 },
 "nbformat": 4,
 "nbformat_minor": 5
}
